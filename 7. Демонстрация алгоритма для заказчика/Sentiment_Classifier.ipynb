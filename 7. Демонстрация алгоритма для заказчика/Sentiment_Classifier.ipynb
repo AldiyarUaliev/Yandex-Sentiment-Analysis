{
 "cells": [
  {
   "cell_type": "markdown",
   "metadata": {},
   "source": [
    "# Классификатор отзывов"
   ]
  },
  {
   "cell_type": "markdown",
   "metadata": {},
   "source": [
    "*В качестве основы выбрана модель SVC с параметрами, определенными на предыдущей неделе, и обученная на корпусе отзывов на мобильные телефоны.*"
   ]
  },
  {
   "cell_type": "markdown",
   "metadata": {},
   "source": [
    "## Загрузка библиотек"
   ]
  },
  {
   "cell_type": "code",
   "execution_count": 28,
   "metadata": {},
   "outputs": [],
   "source": [
    "import pickle\n",
    "import re\n",
    "import numpy as np\n",
    "import pandas as pd\n",
    "from sklearn.feature_extraction.text import TfidfTransformer, CountVectorizer\n",
    "from sklearn.svm import LinearSVC\n",
    "from sklearn.utils import shuffle\n",
    "from sklearn.pipeline import Pipeline\n",
    "from sklearn.externals import joblib\n",
    "from sklearn.metrics import accuracy_score"
   ]
  },
  {
   "cell_type": "markdown",
   "metadata": {
    "collapsed": true
   },
   "source": [
    "## Загрузка и подготовка данных"
   ]
  },
  {
   "cell_type": "code",
   "execution_count": 29,
   "metadata": {},
   "outputs": [],
   "source": [
    "def extract_info(text, label):\n",
    "    try:\n",
    "        if label == 1:\n",
    "            text = re.findall(r'Достоинства(:.*?)Недостатки:', text)[0]\n",
    "        else:\n",
    "            text = re.findall(r'Недостатки(:.*?)Комментарий:', text)[0]\n",
    "        return re.sub(r'\\W', ' ', text)\n",
    "    except:\n",
    "        return text"
   ]
  },
  {
   "cell_type": "code",
   "execution_count": 4,
   "metadata": {},
   "outputs": [],
   "source": [
    "train = pd.read_json('../6. Разработка сентимент-анализа под задачу заказчика/data/train.json', orient='records', lines=True).drop_duplicates()"
   ]
  },
  {
   "cell_type": "code",
   "execution_count": 30,
   "metadata": {},
   "outputs": [],
   "source": [
    "train['label'] = train['rating'].apply(lambda x: int(x == 5))\n",
    "train['length'] = train['text'].apply(lambda x: len(x))\n",
    "train['text_raw'] = train['text']\n",
    "train['text'] = train.apply(lambda x: extract_info(x['text'], x['label']), axis=1)"
   ]
  },
  {
   "cell_type": "code",
   "execution_count": 10,
   "metadata": {},
   "outputs": [],
   "source": [
    "train = shuffle(pd.concat([train[train['label'] == 0], \n",
    "                           train[train['label'] == 1].sort_values('length', ascending=False).head(1680)]), \n",
    "                           random_state=777)"
   ]
  },
  {
   "cell_type": "markdown",
   "metadata": {},
   "source": [
    "## Вспомогательные функции"
   ]
  },
  {
   "cell_type": "code",
   "execution_count": 11,
   "metadata": {},
   "outputs": [],
   "source": [
    "def make_pipeline(vectorizer, transformer, classifier):\n",
    "    return Pipeline([\n",
    "            ('vectorizer', vectorizer),\n",
    "            ('transformer', transformer),\n",
    "            ('classifier', classifier)\n",
    "        ])"
   ]
  },
  {
   "cell_type": "code",
   "execution_count": 14,
   "metadata": {},
   "outputs": [],
   "source": [
    "def make_classifier(text, label):\n",
    "    svc = make_pipeline(CountVectorizer(min_df=10, ngram_range=(1, 2), max_df=0.85, stop_words=None),\n",
    "                        TfidfTransformer(norm='l2', smooth_idf=True, sublinear_tf=True, use_idf=True),\n",
    "                        LinearSVC(max_iter=200, loss='hinge', C=0.9, tol=0.0001, random_state=777))\n",
    "    svc.fit(text, label)\n",
    "    return svc"
   ]
  },
  {
   "cell_type": "markdown",
   "metadata": {},
   "source": [
    "## Тренировка классификатора"
   ]
  },
  {
   "cell_type": "code",
   "execution_count": 33,
   "metadata": {},
   "outputs": [],
   "source": [
    "texts = train['text'].values\n",
    "labels = train['label'].values"
   ]
  },
  {
   "cell_type": "code",
   "execution_count": 34,
   "metadata": {},
   "outputs": [
    {
     "data": {
      "text/plain": [
       "Pipeline(memory=None,\n",
       "     steps=[('vectorizer', CountVectorizer(analyzer='word', binary=False, decode_error='strict',\n",
       "        dtype=<class 'numpy.int64'>, encoding='utf-8', input='content',\n",
       "        lowercase=True, max_df=0.85, max_features=None, min_df=10,\n",
       "        ngram_range=(1, 2), preprocessor=None, stop_words=None,\n",
       "     ...nge', max_iter=200, multi_class='ovr',\n",
       "     penalty='l2', random_state=777, tol=0.0001, verbose=0))])"
      ]
     },
     "execution_count": 34,
     "metadata": {},
     "output_type": "execute_result"
    }
   ],
   "source": [
    "classifier = make_classifier(texts, labels)\n",
    "classifier"
   ]
  },
  {
   "cell_type": "code",
   "execution_count": 35,
   "metadata": {},
   "outputs": [
    {
     "data": {
      "text/plain": [
       "0.9779761904761904"
      ]
     },
     "execution_count": 35,
     "metadata": {},
     "output_type": "execute_result"
    }
   ],
   "source": [
    "accuracy_score(labels, classifier.predict(texts))"
   ]
  },
  {
   "cell_type": "code",
   "execution_count": 36,
   "metadata": {},
   "outputs": [],
   "source": [
    "with open('sentiment_classifier.pkl', 'wb') as f:\n",
    "    pickle.dump(classifier, f)"
   ]
  },
  {
   "cell_type": "markdown",
   "metadata": {
    "collapsed": true
   },
   "source": [
    "## Тестирование классификатора"
   ]
  },
  {
   "cell_type": "code",
   "execution_count": 37,
   "metadata": {},
   "outputs": [],
   "source": [
    "classifier = joblib.load('sentiment_classifier.pkl')"
   ]
  },
  {
   "cell_type": "code",
   "execution_count": 38,
   "metadata": {},
   "outputs": [
    {
     "data": {
      "text/plain": [
       "Pipeline(memory=None,\n",
       "     steps=[('vectorizer', CountVectorizer(analyzer='word', binary=False, decode_error='strict',\n",
       "        dtype=<class 'numpy.int64'>, encoding='utf-8', input='content',\n",
       "        lowercase=True, max_df=0.85, max_features=None, min_df=10,\n",
       "        ngram_range=(1, 2), preprocessor=None, stop_words=None,\n",
       "     ...nge', max_iter=200, multi_class='ovr',\n",
       "     penalty='l2', random_state=777, tol=0.0001, verbose=0))])"
      ]
     },
     "execution_count": 38,
     "metadata": {},
     "output_type": "execute_result"
    }
   ],
   "source": [
    "classifier"
   ]
  },
  {
   "cell_type": "code",
   "execution_count": 41,
   "metadata": {},
   "outputs": [
    {
     "name": "stdout",
     "output_type": "stream",
     "text": [
      "Отзыв:\n",
      "Достоинства: - красивый - большой яркий дисплей - мне зарядки хватает на 2 суток Недостатки: - для женской руки не удобны наличия сенсорных кнопок нажимаешь их ладонью держа одной рукой например в метро в этом плане удобнее телефоны  с одной только центральной кнопкой не сенсорной Комментарий: 6 лет ходила с айфонами 4-5эс-се и почувствовала, что начинает портиться зрение от небольшого дисплея но покупать айфон мимнимум за 50 не вижу смысла. Выбрала данную модель по новизне размеру экрана и бренду. Классный экран глаза отдыхают практически, нет необходимости везде ходить с зарядкой как с айфоном, но андроид....вообще это еще один плюс что теперь мое зрение меньше страдает потому что я стала  меньше пользоваться телефоном потому что чтобы привыкнуть к новому интерфейсу сразу не могу, но верю в себя)))\n",
      "Истинная тональность: 1\n",
      "Предсказанная тональность: 1\n"
     ]
    }
   ],
   "source": [
    "print(f\"Отзыв:\\n{train.iloc[100, 4]}\")\n",
    "print(f\"Истинная тональность: {labels[100]}\")\n",
    "print(f\"Предсказанная тональность: {classifier.predict([train.iloc[100, 4]])[0]}\")"
   ]
  },
  {
   "cell_type": "code",
   "execution_count": 42,
   "metadata": {},
   "outputs": [
    {
     "name": "stdout",
     "output_type": "stream",
     "text": [
      "Отзыв:\n",
      "Достоинства: 1. Красивый 2. Тач  отпечатков пальцев работает идеально 3. В принципе  мощный на проги и игры Недостатки: 1.ЭКРАН!!!!Безумно слабый. Стоит уронить-прощайтесь.(ремонт в официальном салоне стоит 9,5 тысяч так-то) 2.Скользкий без чехла 3. Звук не особо 4. Мега камера? Вы серьёзно? Снимает не лучше 8 мег., хуже айфра и сяоми. Комментарий: не стоит 20+к.\n",
      "Истинная тональность: 0\n",
      "Предсказанная тональность: 0\n"
     ]
    }
   ],
   "source": [
    "print(f\"Отзыв:\\n{train.iloc[50, 4]}\")\n",
    "print(f\"Истинная тональность: {labels[50]}\")\n",
    "print(f\"Предсказанная тональность: {classifier.predict([train.iloc[50, 4]])[0]}\")"
   ]
  },
  {
   "cell_type": "code",
   "execution_count": 44,
   "metadata": {},
   "outputs": [
    {
     "data": {
      "text/plain": [
       "1"
      ]
     },
     "execution_count": 44,
     "metadata": {},
     "output_type": "execute_result"
    }
   ],
   "source": [
    "classifier.predict([\"Достаточно неплохой агрегат\"])[0]"
   ]
  }
 ],
 "metadata": {
  "kernelspec": {
   "display_name": "Python 3",
   "language": "python",
   "name": "python3"
  },
  "language_info": {
   "codemirror_mode": {
    "name": "ipython",
    "version": 3
   },
   "file_extension": ".py",
   "mimetype": "text/x-python",
   "name": "python",
   "nbconvert_exporter": "python",
   "pygments_lexer": "ipython3",
   "version": "3.6.8"
  }
 },
 "nbformat": 4,
 "nbformat_minor": 2
}
