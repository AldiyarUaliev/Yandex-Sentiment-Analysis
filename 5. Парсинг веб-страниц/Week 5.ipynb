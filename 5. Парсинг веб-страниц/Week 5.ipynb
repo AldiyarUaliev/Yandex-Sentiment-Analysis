{
 "cells": [
  {
   "cell_type": "markdown",
   "metadata": {},
   "source": [
    "# Парсинг веб-страниц"
   ]
  },
  {
   "cell_type": "markdown",
   "metadata": {},
   "source": [
    "*В этом задании вы потренеруетесь парсить веб-страницы. Это умение пригодится вам, когда возникнет потребность самостоятельно собрать выборку для построения модели, будь то тексты или какая-то другая информация с общедоступных веб-страниц. В рамках данного проекта это случится уже в задании следующей недели.*"
   ]
  },
  {
   "cell_type": "markdown",
   "metadata": {},
   "source": [
    "## Загрузка библиотек"
   ]
  },
  {
   "cell_type": "code",
   "execution_count": 1,
   "metadata": {},
   "outputs": [],
   "source": [
    "import requests\n",
    "from bs4 import BeautifulSoup\n",
    "from multiprocessing import Pool\n",
    "from functools import reduce"
   ]
  },
  {
   "cell_type": "markdown",
   "metadata": {},
   "source": [
    "## Получение количества страниц"
   ]
  },
  {
   "cell_type": "code",
   "execution_count": 2,
   "metadata": {},
   "outputs": [],
   "source": [
    "URL = \"https://www.metacritic.com/browse/games/release-date/available/ps4\"\n",
    "html = requests.get(URL, headers={'User-Agent': 'Mozilla/5.0'}).content\n",
    "soup = BeautifulSoup(html, 'html.parser')\n",
    "num_pages = int(soup.find('li', class_='page last_page').find('a', class_='page_num').text)"
   ]
  },
  {
   "cell_type": "code",
   "execution_count": 3,
   "metadata": {},
   "outputs": [
    {
     "name": "stdout",
     "output_type": "stream",
     "text": [
      "Количество страниц - 22\n"
     ]
    }
   ],
   "source": [
    "print(f\"Количество страниц - {num_pages}\")"
   ]
  },
  {
   "cell_type": "markdown",
   "metadata": {},
   "source": [
    "## Парсинг страниц"
   ]
  },
  {
   "cell_type": "code",
   "execution_count": 4,
   "metadata": {},
   "outputs": [],
   "source": [
    "def get_games_list(url):\n",
    "    html = requests.get(url, headers={'User-Agent': 'Mozilla/5.0'}).content\n",
    "    soup = BeautifulSoup(html, 'html.parser')\n",
    "    games = soup.find('ol', class_='list_products list_product_condensed')\n",
    "    titles = games.findAll('div', class_='basic_stat product_title')\n",
    "    return [title.find('a').text.strip() for title in titles]"
   ]
  },
  {
   "cell_type": "code",
   "execution_count": 5,
   "metadata": {},
   "outputs": [],
   "source": [
    "with Pool(10) as p:\n",
    "    url_list = [URL + \"/date?page=\" + str(page) for page in range(num_pages)]\n",
    "    map_results = p.map(get_games_list, url_list)\n",
    "    games_list = sorted(reduce(lambda x, y: x + y, map_results))"
   ]
  },
  {
   "cell_type": "code",
   "execution_count": 6,
   "metadata": {},
   "outputs": [
    {
     "data": {
      "text/plain": [
       "['#KILLALLZOMBIES',\n",
       " \"'n Verlore Verstand\",\n",
       " '.hack//G.U. Last Recode',\n",
       " '10 Second Ninja X',\n",
       " '1000 Top Rated',\n",
       " '1001 Spikes',\n",
       " '100ft Robot Golf',\n",
       " '101 Ways to Die',\n",
       " '11-11: Memories Retold',\n",
       " '11-11: Memories Retold - WarChild Charity']"
      ]
     },
     "execution_count": 6,
     "metadata": {},
     "output_type": "execute_result"
    }
   ],
   "source": [
    "games_list[:10]"
   ]
  },
  {
   "cell_type": "code",
   "execution_count": 7,
   "metadata": {},
   "outputs": [],
   "source": [
    "with open('ps4_games.txt', 'w') as f:\n",
    "    f.write('\\n'.join(games_list))"
   ]
  }
 ],
 "metadata": {
  "kernelspec": {
   "display_name": "Python 3",
   "language": "python",
   "name": "python3"
  },
  "language_info": {
   "codemirror_mode": {
    "name": "ipython",
    "version": 3
   },
   "file_extension": ".py",
   "mimetype": "text/x-python",
   "name": "python",
   "nbconvert_exporter": "python",
   "pygments_lexer": "ipython3",
   "version": "3.6.8"
  }
 },
 "nbformat": 4,
 "nbformat_minor": 1
}
